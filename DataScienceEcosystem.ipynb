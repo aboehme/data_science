{
 "cells": [
  {
   "cell_type": "markdown",
   "id": "3911a3a7-e4e2-455e-82c8-b38855d67d03",
   "metadata": {},
   "source": [
    "# Data Science Tools and Ecosystem"
   ]
  },
  {
   "cell_type": "markdown",
   "id": "a948bc66-259d-437c-9f02-e9aae1f3a585",
   "metadata": {},
   "source": [
    "## Author\n",
    "Amanda Clark"
   ]
  },
  {
   "cell_type": "markdown",
   "id": "03e1e1ee-cb70-4b30-9bb6-c10d9252adc4",
   "metadata": {
    "tags": []
   },
   "source": [
    "## In this notebook, Data Science Tools and Ecosystem are summarized."
   ]
  },
  {
   "cell_type": "markdown",
   "id": "f3a0c72d-3924-4d4d-900c-fc1cc20b84a5",
   "metadata": {},
   "source": [
    "**Objectives:**"
   ]
  },
  {
   "cell_type": "markdown",
   "id": "4dac91e0-eeaa-4622-9385-8a382b3e1665",
   "metadata": {},
   "source": [
    "- Show some of the popular Data Science languages\n",
    "- Show some of the commonly used libraries\n",
    "- Show examples of evaluating arithmetic expressions in Python"
   ]
  },
  {
   "cell_type": "markdown",
   "id": "1725d420-1aa6-4996-85ef-6000cc16b3c5",
   "metadata": {},
   "source": [
    "### Some of the popular languages that Data Scientists use are:"
   ]
  },
  {
   "cell_type": "markdown",
   "id": "7f9a6373-eb26-4a5d-867a-67501d77de7e",
   "metadata": {},
   "source": [
    "### Some of the commonly used libraries used by Data Scientists include:"
   ]
  },
  {
   "cell_type": "markdown",
   "id": "3620e24d-96be-43c5-bb56-cf3f26e4fd03",
   "metadata": {},
   "source": [
    "1. Matplotlib\n",
    "2. Pandas\n",
    "3. NumPy"
   ]
  },
  {
   "cell_type": "markdown",
   "id": "154c94ee-cc46-4acc-9d68-28c9c61c39a8",
   "metadata": {},
   "source": [
    "| Data Science Tools |\n",
    "| ------------------ |\n",
    "| R Studio |\n",
    "| Git |\n",
    "| Anaconda |"
   ]
  },
  {
   "cell_type": "markdown",
   "id": "b61a22b0-2928-4553-8e9b-b6982adf1833",
   "metadata": {},
   "source": [
    "### Below are a few examples of evaluating arithmetic expressions in Python"
   ]
  },
  {
   "cell_type": "markdown",
   "id": "cd12b9b4-be53-498b-ae5a-4a1e6660be3c",
   "metadata": {
    "tags": []
   },
   "source": [
    "*This a simple arithmetic expression to mutiply then add integers*"
   ]
  },
  {
   "cell_type": "code",
   "execution_count": 5,
   "id": "4f4bdd44-85ef-4880-96c9-0f5de3b82b9b",
   "metadata": {
    "tags": []
   },
   "outputs": [
    {
     "data": {
      "text/plain": [
       "17"
      ]
     },
     "execution_count": 5,
     "metadata": {},
     "output_type": "execute_result"
    }
   ],
   "source": [
    "(3*4)+5"
   ]
  },
  {
   "cell_type": "markdown",
   "id": "48a80f4d-283a-4544-af6e-501aeaa74442",
   "metadata": {},
   "source": [
    "*This will convert 200 minutes to hours by diving by 60.*"
   ]
  },
  {
   "cell_type": "code",
   "execution_count": 6,
   "id": "acde071a-217e-4748-be9a-fa147330a78c",
   "metadata": {
    "tags": []
   },
   "outputs": [
    {
     "data": {
      "text/plain": [
       "3.3333333333333335"
      ]
     },
     "execution_count": 6,
     "metadata": {},
     "output_type": "execute_result"
    }
   ],
   "source": [
    "200/60"
   ]
  },
  {
   "cell_type": "code",
   "execution_count": null,
   "id": "56dfe794-4d66-46b1-aaca-270846cd6a05",
   "metadata": {},
   "outputs": [],
   "source": []
  }
 ],
 "metadata": {
  "kernelspec": {
   "display_name": "Python",
   "language": "python",
   "name": "conda-env-python-py"
  },
  "language_info": {
   "codemirror_mode": {
    "name": "ipython",
    "version": 3
   },
   "file_extension": ".py",
   "mimetype": "text/x-python",
   "name": "python",
   "nbconvert_exporter": "python",
   "pygments_lexer": "ipython3",
   "version": "3.7.12"
  }
 },
 "nbformat": 4,
 "nbformat_minor": 5
}
